{
  "nbformat": 4,
  "nbformat_minor": 0,
  "metadata": {
    "colab": {
      "provenance": [],
      "collapsed_sections": [],
      "authorship_tag": "ABX9TyPzMaYk0+ZX0YvNZ1JnTdFZ",
      "include_colab_link": true
    },
    "kernelspec": {
      "name": "python3",
      "display_name": "Python 3"
    },
    "language_info": {
      "name": "python"
    }
  },
  "cells": [
    {
      "cell_type": "markdown",
      "metadata": {
        "id": "view-in-github",
        "colab_type": "text"
      },
      "source": [
        "<a href=\"https://colab.research.google.com/github/nhn09/faqSimilarity/blob/main/FAQtask.ipynb\" target=\"_parent\"><img src=\"https://colab.research.google.com/assets/colab-badge.svg\" alt=\"Open In Colab\"/></a>"
      ]
    },
    {
      "cell_type": "code",
      "execution_count": 1,
      "metadata": {
        "id": "lEUTcmiEb0fl"
      },
      "outputs": [],
      "source": [
        "import numpy as np \n",
        "import pandas as pd"
      ]
    },
    {
      "cell_type": "code",
      "source": [
        "Dataset = pd.read_csv('/content/FAQs.csv', delimiter = \",\")\n",
        "Dataset.head(10)"
      ],
      "metadata": {
        "colab": {
          "base_uri": "https://localhost:8080/",
          "height": 363
        },
        "id": "d2At6HApd9jn",
        "outputId": "d1a77781-709c-440b-e91c-88468f89b2ce"
      },
      "execution_count": 3,
      "outputs": [
        {
          "output_type": "execute_result",
          "data": {
            "text/plain": [
              "                                            Question  \\\n",
              "0                     When was Albert Einstein born?   \n",
              "1                                 Where was he born?   \n",
              "2                                   When did he die?   \n",
              "3                              Who were his parents?   \n",
              "4              Did he have any sisters and brothers?   \n",
              "5                    Did he marry and have children?   \n",
              "6                Where did he receive his education?   \n",
              "7  When was Albert Einstein awarded the Nobel Pri...   \n",
              "8  Did Albert Einstein attend the Nobel Prize Awa...   \n",
              "9           For what did he receive the Nobel Prize?   \n",
              "\n",
              "                                              Answer  \n",
              "0         Albert Einstein was born on 14 March 1879.  \n",
              "1                      He was born in Ulm, Germany.   \n",
              "2  He died 18 April 1955 in Princeton, New Jersey...  \n",
              "3  His father was Hermann Einstein and his mother...  \n",
              "4                      He had one sister named Maja.  \n",
              "5  He was married to Mileva Marić between 1903 an...  \n",
              "6  He received his main education at the followin...  \n",
              "7  The Nobel Prize Awarding Institution, the Roya...  \n",
              "8  The Nobel Prize was announced on 9 November 19...  \n",
              "9  Einstein was rewarded for his many contributio...  "
            ],
            "text/html": [
              "\n",
              "  <div id=\"df-9ddef9e2-2dc0-46c9-8fe4-89313701ffee\">\n",
              "    <div class=\"colab-df-container\">\n",
              "      <div>\n",
              "<style scoped>\n",
              "    .dataframe tbody tr th:only-of-type {\n",
              "        vertical-align: middle;\n",
              "    }\n",
              "\n",
              "    .dataframe tbody tr th {\n",
              "        vertical-align: top;\n",
              "    }\n",
              "\n",
              "    .dataframe thead th {\n",
              "        text-align: right;\n",
              "    }\n",
              "</style>\n",
              "<table border=\"1\" class=\"dataframe\">\n",
              "  <thead>\n",
              "    <tr style=\"text-align: right;\">\n",
              "      <th></th>\n",
              "      <th>Question</th>\n",
              "      <th>Answer</th>\n",
              "    </tr>\n",
              "  </thead>\n",
              "  <tbody>\n",
              "    <tr>\n",
              "      <th>0</th>\n",
              "      <td>When was Albert Einstein born?</td>\n",
              "      <td>Albert Einstein was born on 14 March 1879.</td>\n",
              "    </tr>\n",
              "    <tr>\n",
              "      <th>1</th>\n",
              "      <td>Where was he born?</td>\n",
              "      <td>He was born in Ulm, Germany.</td>\n",
              "    </tr>\n",
              "    <tr>\n",
              "      <th>2</th>\n",
              "      <td>When did he die?</td>\n",
              "      <td>He died 18 April 1955 in Princeton, New Jersey...</td>\n",
              "    </tr>\n",
              "    <tr>\n",
              "      <th>3</th>\n",
              "      <td>Who were his parents?</td>\n",
              "      <td>His father was Hermann Einstein and his mother...</td>\n",
              "    </tr>\n",
              "    <tr>\n",
              "      <th>4</th>\n",
              "      <td>Did he have any sisters and brothers?</td>\n",
              "      <td>He had one sister named Maja.</td>\n",
              "    </tr>\n",
              "    <tr>\n",
              "      <th>5</th>\n",
              "      <td>Did he marry and have children?</td>\n",
              "      <td>He was married to Mileva Marić between 1903 an...</td>\n",
              "    </tr>\n",
              "    <tr>\n",
              "      <th>6</th>\n",
              "      <td>Where did he receive his education?</td>\n",
              "      <td>He received his main education at the followin...</td>\n",
              "    </tr>\n",
              "    <tr>\n",
              "      <th>7</th>\n",
              "      <td>When was Albert Einstein awarded the Nobel Pri...</td>\n",
              "      <td>The Nobel Prize Awarding Institution, the Roya...</td>\n",
              "    </tr>\n",
              "    <tr>\n",
              "      <th>8</th>\n",
              "      <td>Did Albert Einstein attend the Nobel Prize Awa...</td>\n",
              "      <td>The Nobel Prize was announced on 9 November 19...</td>\n",
              "    </tr>\n",
              "    <tr>\n",
              "      <th>9</th>\n",
              "      <td>For what did he receive the Nobel Prize?</td>\n",
              "      <td>Einstein was rewarded for his many contributio...</td>\n",
              "    </tr>\n",
              "  </tbody>\n",
              "</table>\n",
              "</div>\n",
              "      <button class=\"colab-df-convert\" onclick=\"convertToInteractive('df-9ddef9e2-2dc0-46c9-8fe4-89313701ffee')\"\n",
              "              title=\"Convert this dataframe to an interactive table.\"\n",
              "              style=\"display:none;\">\n",
              "        \n",
              "  <svg xmlns=\"http://www.w3.org/2000/svg\" height=\"24px\"viewBox=\"0 0 24 24\"\n",
              "       width=\"24px\">\n",
              "    <path d=\"M0 0h24v24H0V0z\" fill=\"none\"/>\n",
              "    <path d=\"M18.56 5.44l.94 2.06.94-2.06 2.06-.94-2.06-.94-.94-2.06-.94 2.06-2.06.94zm-11 1L8.5 8.5l.94-2.06 2.06-.94-2.06-.94L8.5 2.5l-.94 2.06-2.06.94zm10 10l.94 2.06.94-2.06 2.06-.94-2.06-.94-.94-2.06-.94 2.06-2.06.94z\"/><path d=\"M17.41 7.96l-1.37-1.37c-.4-.4-.92-.59-1.43-.59-.52 0-1.04.2-1.43.59L10.3 9.45l-7.72 7.72c-.78.78-.78 2.05 0 2.83L4 21.41c.39.39.9.59 1.41.59.51 0 1.02-.2 1.41-.59l7.78-7.78 2.81-2.81c.8-.78.8-2.07 0-2.86zM5.41 20L4 18.59l7.72-7.72 1.47 1.35L5.41 20z\"/>\n",
              "  </svg>\n",
              "      </button>\n",
              "      \n",
              "  <style>\n",
              "    .colab-df-container {\n",
              "      display:flex;\n",
              "      flex-wrap:wrap;\n",
              "      gap: 12px;\n",
              "    }\n",
              "\n",
              "    .colab-df-convert {\n",
              "      background-color: #E8F0FE;\n",
              "      border: none;\n",
              "      border-radius: 50%;\n",
              "      cursor: pointer;\n",
              "      display: none;\n",
              "      fill: #1967D2;\n",
              "      height: 32px;\n",
              "      padding: 0 0 0 0;\n",
              "      width: 32px;\n",
              "    }\n",
              "\n",
              "    .colab-df-convert:hover {\n",
              "      background-color: #E2EBFA;\n",
              "      box-shadow: 0px 1px 2px rgba(60, 64, 67, 0.3), 0px 1px 3px 1px rgba(60, 64, 67, 0.15);\n",
              "      fill: #174EA6;\n",
              "    }\n",
              "\n",
              "    [theme=dark] .colab-df-convert {\n",
              "      background-color: #3B4455;\n",
              "      fill: #D2E3FC;\n",
              "    }\n",
              "\n",
              "    [theme=dark] .colab-df-convert:hover {\n",
              "      background-color: #434B5C;\n",
              "      box-shadow: 0px 1px 3px 1px rgba(0, 0, 0, 0.15);\n",
              "      filter: drop-shadow(0px 1px 2px rgba(0, 0, 0, 0.3));\n",
              "      fill: #FFFFFF;\n",
              "    }\n",
              "  </style>\n",
              "\n",
              "      <script>\n",
              "        const buttonEl =\n",
              "          document.querySelector('#df-9ddef9e2-2dc0-46c9-8fe4-89313701ffee button.colab-df-convert');\n",
              "        buttonEl.style.display =\n",
              "          google.colab.kernel.accessAllowed ? 'block' : 'none';\n",
              "\n",
              "        async function convertToInteractive(key) {\n",
              "          const element = document.querySelector('#df-9ddef9e2-2dc0-46c9-8fe4-89313701ffee');\n",
              "          const dataTable =\n",
              "            await google.colab.kernel.invokeFunction('convertToInteractive',\n",
              "                                                     [key], {});\n",
              "          if (!dataTable) return;\n",
              "\n",
              "          const docLinkHtml = 'Like what you see? Visit the ' +\n",
              "            '<a target=\"_blank\" href=https://colab.research.google.com/notebooks/data_table.ipynb>data table notebook</a>'\n",
              "            + ' to learn more about interactive tables.';\n",
              "          element.innerHTML = '';\n",
              "          dataTable['output_type'] = 'display_data';\n",
              "          await google.colab.output.renderOutput(dataTable, element);\n",
              "          const docLink = document.createElement('div');\n",
              "          docLink.innerHTML = docLinkHtml;\n",
              "          element.appendChild(docLink);\n",
              "        }\n",
              "      </script>\n",
              "    </div>\n",
              "  </div>\n",
              "  "
            ]
          },
          "metadata": {},
          "execution_count": 3
        }
      ]
    },
    {
      "cell_type": "markdown",
      "source": [
        "# Embedding Using SBERT:\n",
        "\n",
        "SentenceTransformers is a Python framework for state-of-the-art sentence, text and image embeddings.\n",
        "\n",
        "The framework is based on PyTorch and Transformers."
      ],
      "metadata": {
        "id": "cihJgsjdf3kw"
      }
    },
    {
      "cell_type": "code",
      "source": [
        "!pip install -U sentence-transformers"
      ],
      "metadata": {
        "colab": {
          "base_uri": "https://localhost:8080/"
        },
        "id": "3dsB58fqfc1_",
        "outputId": "57f7b0af-e9bb-4b67-bb31-1bac2621d311"
      },
      "execution_count": 4,
      "outputs": [
        {
          "output_type": "stream",
          "name": "stdout",
          "text": [
            "Looking in indexes: https://pypi.org/simple, https://us-python.pkg.dev/colab-wheels/public/simple/\n",
            "Collecting sentence-transformers\n",
            "  Downloading sentence-transformers-2.2.2.tar.gz (85 kB)\n",
            "\u001b[K     |████████████████████████████████| 85 kB 3.5 MB/s \n",
            "\u001b[?25hCollecting transformers<5.0.0,>=4.6.0\n",
            "  Downloading transformers-4.24.0-py3-none-any.whl (5.5 MB)\n",
            "\u001b[K     |████████████████████████████████| 5.5 MB 48.0 MB/s \n",
            "\u001b[?25hRequirement already satisfied: tqdm in /usr/local/lib/python3.7/dist-packages (from sentence-transformers) (4.64.1)\n",
            "Requirement already satisfied: torch>=1.6.0 in /usr/local/lib/python3.7/dist-packages (from sentence-transformers) (1.12.1+cu113)\n",
            "Requirement already satisfied: torchvision in /usr/local/lib/python3.7/dist-packages (from sentence-transformers) (0.13.1+cu113)\n",
            "Requirement already satisfied: numpy in /usr/local/lib/python3.7/dist-packages (from sentence-transformers) (1.21.6)\n",
            "Requirement already satisfied: scikit-learn in /usr/local/lib/python3.7/dist-packages (from sentence-transformers) (1.0.2)\n",
            "Requirement already satisfied: scipy in /usr/local/lib/python3.7/dist-packages (from sentence-transformers) (1.7.3)\n",
            "Requirement already satisfied: nltk in /usr/local/lib/python3.7/dist-packages (from sentence-transformers) (3.7)\n",
            "Collecting sentencepiece\n",
            "  Downloading sentencepiece-0.1.97-cp37-cp37m-manylinux_2_17_x86_64.manylinux2014_x86_64.whl (1.3 MB)\n",
            "\u001b[K     |████████████████████████████████| 1.3 MB 28.6 MB/s \n",
            "\u001b[?25hCollecting huggingface-hub>=0.4.0\n",
            "  Downloading huggingface_hub-0.10.1-py3-none-any.whl (163 kB)\n",
            "\u001b[K     |████████████████████████████████| 163 kB 43.9 MB/s \n",
            "\u001b[?25hRequirement already satisfied: filelock in /usr/local/lib/python3.7/dist-packages (from huggingface-hub>=0.4.0->sentence-transformers) (3.8.0)\n",
            "Requirement already satisfied: importlib-metadata in /usr/local/lib/python3.7/dist-packages (from huggingface-hub>=0.4.0->sentence-transformers) (4.13.0)\n",
            "Requirement already satisfied: packaging>=20.9 in /usr/local/lib/python3.7/dist-packages (from huggingface-hub>=0.4.0->sentence-transformers) (21.3)\n",
            "Requirement already satisfied: typing-extensions>=3.7.4.3 in /usr/local/lib/python3.7/dist-packages (from huggingface-hub>=0.4.0->sentence-transformers) (4.1.1)\n",
            "Requirement already satisfied: pyyaml>=5.1 in /usr/local/lib/python3.7/dist-packages (from huggingface-hub>=0.4.0->sentence-transformers) (6.0)\n",
            "Requirement already satisfied: requests in /usr/local/lib/python3.7/dist-packages (from huggingface-hub>=0.4.0->sentence-transformers) (2.23.0)\n",
            "Requirement already satisfied: pyparsing!=3.0.5,>=2.0.2 in /usr/local/lib/python3.7/dist-packages (from packaging>=20.9->huggingface-hub>=0.4.0->sentence-transformers) (3.0.9)\n",
            "Requirement already satisfied: regex!=2019.12.17 in /usr/local/lib/python3.7/dist-packages (from transformers<5.0.0,>=4.6.0->sentence-transformers) (2022.6.2)\n",
            "Collecting tokenizers!=0.11.3,<0.14,>=0.11.1\n",
            "  Downloading tokenizers-0.13.2-cp37-cp37m-manylinux_2_17_x86_64.manylinux2014_x86_64.whl (7.6 MB)\n",
            "\u001b[K     |████████████████████████████████| 7.6 MB 44.0 MB/s \n",
            "\u001b[?25hRequirement already satisfied: zipp>=0.5 in /usr/local/lib/python3.7/dist-packages (from importlib-metadata->huggingface-hub>=0.4.0->sentence-transformers) (3.10.0)\n",
            "Requirement already satisfied: click in /usr/local/lib/python3.7/dist-packages (from nltk->sentence-transformers) (7.1.2)\n",
            "Requirement already satisfied: joblib in /usr/local/lib/python3.7/dist-packages (from nltk->sentence-transformers) (1.2.0)\n",
            "Requirement already satisfied: urllib3!=1.25.0,!=1.25.1,<1.26,>=1.21.1 in /usr/local/lib/python3.7/dist-packages (from requests->huggingface-hub>=0.4.0->sentence-transformers) (1.24.3)\n",
            "Requirement already satisfied: certifi>=2017.4.17 in /usr/local/lib/python3.7/dist-packages (from requests->huggingface-hub>=0.4.0->sentence-transformers) (2022.9.24)\n",
            "Requirement already satisfied: idna<3,>=2.5 in /usr/local/lib/python3.7/dist-packages (from requests->huggingface-hub>=0.4.0->sentence-transformers) (2.10)\n",
            "Requirement already satisfied: chardet<4,>=3.0.2 in /usr/local/lib/python3.7/dist-packages (from requests->huggingface-hub>=0.4.0->sentence-transformers) (3.0.4)\n",
            "Requirement already satisfied: threadpoolctl>=2.0.0 in /usr/local/lib/python3.7/dist-packages (from scikit-learn->sentence-transformers) (3.1.0)\n",
            "Requirement already satisfied: pillow!=8.3.*,>=5.3.0 in /usr/local/lib/python3.7/dist-packages (from torchvision->sentence-transformers) (7.1.2)\n",
            "Building wheels for collected packages: sentence-transformers\n",
            "  Building wheel for sentence-transformers (setup.py) ... \u001b[?25l\u001b[?25hdone\n",
            "  Created wheel for sentence-transformers: filename=sentence_transformers-2.2.2-py3-none-any.whl size=125938 sha256=2e90754569e750fbfe866beee97185a9423c950d9f3c35e925afc56a2e19d9ce\n",
            "  Stored in directory: /root/.cache/pip/wheels/bf/06/fb/d59c1e5bd1dac7f6cf61ec0036cc3a10ab8fecaa6b2c3d3ee9\n",
            "Successfully built sentence-transformers\n",
            "Installing collected packages: tokenizers, huggingface-hub, transformers, sentencepiece, sentence-transformers\n",
            "Successfully installed huggingface-hub-0.10.1 sentence-transformers-2.2.2 sentencepiece-0.1.97 tokenizers-0.13.2 transformers-4.24.0\n"
          ]
        }
      ]
    },
    {
      "cell_type": "code",
      "source": [
        "testDataset = pd.read_csv('/content/FAQs_test.csv', delimiter = \",\")\n",
        "testDataset.head()"
      ],
      "metadata": {
        "colab": {
          "base_uri": "https://localhost:8080/",
          "height": 206
        },
        "id": "SWBF5jHkgMuX",
        "outputId": "b2457068-9097-4f0c-f3c8-a7d93f99eaa9"
      },
      "execution_count": 5,
      "outputs": [
        {
          "output_type": "execute_result",
          "data": {
            "text/plain": [
              "                             Question\n",
              "0      What is the date of his death?\n",
              "1         Did Einstein have siblings?\n",
              "2                   Who was his wife?\n",
              "3  What was Einstein's father's name?\n",
              "4  At what institutions did he study?"
            ],
            "text/html": [
              "\n",
              "  <div id=\"df-496a46be-4519-4689-bd0e-1e0c33d3d374\">\n",
              "    <div class=\"colab-df-container\">\n",
              "      <div>\n",
              "<style scoped>\n",
              "    .dataframe tbody tr th:only-of-type {\n",
              "        vertical-align: middle;\n",
              "    }\n",
              "\n",
              "    .dataframe tbody tr th {\n",
              "        vertical-align: top;\n",
              "    }\n",
              "\n",
              "    .dataframe thead th {\n",
              "        text-align: right;\n",
              "    }\n",
              "</style>\n",
              "<table border=\"1\" class=\"dataframe\">\n",
              "  <thead>\n",
              "    <tr style=\"text-align: right;\">\n",
              "      <th></th>\n",
              "      <th>Question</th>\n",
              "    </tr>\n",
              "  </thead>\n",
              "  <tbody>\n",
              "    <tr>\n",
              "      <th>0</th>\n",
              "      <td>What is the date of his death?</td>\n",
              "    </tr>\n",
              "    <tr>\n",
              "      <th>1</th>\n",
              "      <td>Did Einstein have siblings?</td>\n",
              "    </tr>\n",
              "    <tr>\n",
              "      <th>2</th>\n",
              "      <td>Who was his wife?</td>\n",
              "    </tr>\n",
              "    <tr>\n",
              "      <th>3</th>\n",
              "      <td>What was Einstein's father's name?</td>\n",
              "    </tr>\n",
              "    <tr>\n",
              "      <th>4</th>\n",
              "      <td>At what institutions did he study?</td>\n",
              "    </tr>\n",
              "  </tbody>\n",
              "</table>\n",
              "</div>\n",
              "      <button class=\"colab-df-convert\" onclick=\"convertToInteractive('df-496a46be-4519-4689-bd0e-1e0c33d3d374')\"\n",
              "              title=\"Convert this dataframe to an interactive table.\"\n",
              "              style=\"display:none;\">\n",
              "        \n",
              "  <svg xmlns=\"http://www.w3.org/2000/svg\" height=\"24px\"viewBox=\"0 0 24 24\"\n",
              "       width=\"24px\">\n",
              "    <path d=\"M0 0h24v24H0V0z\" fill=\"none\"/>\n",
              "    <path d=\"M18.56 5.44l.94 2.06.94-2.06 2.06-.94-2.06-.94-.94-2.06-.94 2.06-2.06.94zm-11 1L8.5 8.5l.94-2.06 2.06-.94-2.06-.94L8.5 2.5l-.94 2.06-2.06.94zm10 10l.94 2.06.94-2.06 2.06-.94-2.06-.94-.94-2.06-.94 2.06-2.06.94z\"/><path d=\"M17.41 7.96l-1.37-1.37c-.4-.4-.92-.59-1.43-.59-.52 0-1.04.2-1.43.59L10.3 9.45l-7.72 7.72c-.78.78-.78 2.05 0 2.83L4 21.41c.39.39.9.59 1.41.59.51 0 1.02-.2 1.41-.59l7.78-7.78 2.81-2.81c.8-.78.8-2.07 0-2.86zM5.41 20L4 18.59l7.72-7.72 1.47 1.35L5.41 20z\"/>\n",
              "  </svg>\n",
              "      </button>\n",
              "      \n",
              "  <style>\n",
              "    .colab-df-container {\n",
              "      display:flex;\n",
              "      flex-wrap:wrap;\n",
              "      gap: 12px;\n",
              "    }\n",
              "\n",
              "    .colab-df-convert {\n",
              "      background-color: #E8F0FE;\n",
              "      border: none;\n",
              "      border-radius: 50%;\n",
              "      cursor: pointer;\n",
              "      display: none;\n",
              "      fill: #1967D2;\n",
              "      height: 32px;\n",
              "      padding: 0 0 0 0;\n",
              "      width: 32px;\n",
              "    }\n",
              "\n",
              "    .colab-df-convert:hover {\n",
              "      background-color: #E2EBFA;\n",
              "      box-shadow: 0px 1px 2px rgba(60, 64, 67, 0.3), 0px 1px 3px 1px rgba(60, 64, 67, 0.15);\n",
              "      fill: #174EA6;\n",
              "    }\n",
              "\n",
              "    [theme=dark] .colab-df-convert {\n",
              "      background-color: #3B4455;\n",
              "      fill: #D2E3FC;\n",
              "    }\n",
              "\n",
              "    [theme=dark] .colab-df-convert:hover {\n",
              "      background-color: #434B5C;\n",
              "      box-shadow: 0px 1px 3px 1px rgba(0, 0, 0, 0.15);\n",
              "      filter: drop-shadow(0px 1px 2px rgba(0, 0, 0, 0.3));\n",
              "      fill: #FFFFFF;\n",
              "    }\n",
              "  </style>\n",
              "\n",
              "      <script>\n",
              "        const buttonEl =\n",
              "          document.querySelector('#df-496a46be-4519-4689-bd0e-1e0c33d3d374 button.colab-df-convert');\n",
              "        buttonEl.style.display =\n",
              "          google.colab.kernel.accessAllowed ? 'block' : 'none';\n",
              "\n",
              "        async function convertToInteractive(key) {\n",
              "          const element = document.querySelector('#df-496a46be-4519-4689-bd0e-1e0c33d3d374');\n",
              "          const dataTable =\n",
              "            await google.colab.kernel.invokeFunction('convertToInteractive',\n",
              "                                                     [key], {});\n",
              "          if (!dataTable) return;\n",
              "\n",
              "          const docLinkHtml = 'Like what you see? Visit the ' +\n",
              "            '<a target=\"_blank\" href=https://colab.research.google.com/notebooks/data_table.ipynb>data table notebook</a>'\n",
              "            + ' to learn more about interactive tables.';\n",
              "          element.innerHTML = '';\n",
              "          dataTable['output_type'] = 'display_data';\n",
              "          await google.colab.output.renderOutput(dataTable, element);\n",
              "          const docLink = document.createElement('div');\n",
              "          docLink.innerHTML = docLinkHtml;\n",
              "          element.appendChild(docLink);\n",
              "        }\n",
              "      </script>\n",
              "    </div>\n",
              "  </div>\n",
              "  "
            ]
          },
          "metadata": {},
          "execution_count": 5
        }
      ]
    },
    {
      "cell_type": "code",
      "source": [
        "testSentences = testDataset['Question'].values.tolist()\n",
        "givenSentences = Dataset['Question'].values.tolist()\n",
        "givenAnsSentences = Dataset['Answer'].values.tolist()\n",
        "print(testSentences)\n",
        "print(givenSentences)\n",
        "print(givenAnsSentences)"
      ],
      "metadata": {
        "colab": {
          "base_uri": "https://localhost:8080/"
        },
        "id": "aa3LjAWvgskP",
        "outputId": "8eddd53f-33c0-45d8-d968-046f34d00dce"
      },
      "execution_count": 12,
      "outputs": [
        {
          "output_type": "stream",
          "name": "stdout",
          "text": [
            "['What is the date of his death?', 'Did Einstein have siblings?', 'Who was his wife?', \"What was Einstein's father's name?\", 'At what institutions did he study?']\n",
            "['When was Albert Einstein born?', 'Where was he born?', 'When did he die?', 'Who were his parents?', 'Did he have any sisters and brothers?', 'Did he marry and have children?', 'Where did he receive his education?', 'When was Albert Einstein awarded the Nobel Prize in Physics?', 'Did Albert Einstein attend the Nobel Prize Award Ceremony?', 'For what did he receive the Nobel Prize?']\n",
            "['Albert Einstein was born on 14 March 1879.', 'He was born in Ulm, Germany. ', 'He died 18 April 1955 in Princeton, New Jersey, USA.', 'His father was Hermann Einstein and his mother was Pauline Einstein (born Koch).', 'He had one sister named Maja.', 'He was married to Mileva Marić between 1903 and 1919. They had three children, Lieserl (born 1902), Hans Albert (born 1904) and Eduard (born 1910). He married Elsa Löwenthal in 1919 and they lived together until her death in 1936.', 'He received his main education at the following schools: Catholic elementary school in Munich, Germany (1885-1888)Luitpold Gymnasium in Munich, Germany (1888-1894) Cantonal school in Aarau, Switzerland (1895-1896) Swiss Federal Institute of Technology in Zurich, Switzerland (1896-1900) Ph.D. from Zurich University, Switzerland (1905)', 'The Nobel Prize Awarding Institution, the Royal Swedish Academy of Sciences, decided to reserve the Nobel Prize in Physics in 1921, and therefore no Physics Prize was awarded that year. According to the statutes, a reserved prize can be awarded the year after, and Albert Einstein was awarded the 1921 Nobel Prize in Physics in 1922.', 'The Nobel Prize was announced on 9 November 1922. Being too remote from Sweden, Albert Einstein could not attend the Nobel Prize Award Ceremony in Stockholm on 10 December the same year.', 'Einstein was rewarded for his many contributions to theoretical physics, and especially for his discovery of the law of the photoelectric effect.']\n"
          ]
        }
      ]
    },
    {
      "cell_type": "code",
      "source": [
        "from sentence_transformers import SentenceTransformer, util\n",
        "model = SentenceTransformer('all-MiniLM-L6-v2')\n",
        "\n",
        "sentences = testSentences\n",
        "embeddings1 = model.encode(testSentences, convert_to_tensor=True)\n",
        "embeddings2 = model.encode(givenSentences, convert_to_tensor=True)\n",
        "cosine_scores = util.cos_sim(embeddings1, embeddings2)"
      ],
      "metadata": {
        "id": "rlyujou6eb_A"
      },
      "execution_count": 36,
      "outputs": []
    },
    {
      "cell_type": "code",
      "source": [
        "for i in range(len(testSentences)): \n",
        "  for j in range(len(givenSentences)): \n",
        "   print(\"{} \\t\\t {} \\t\\t Score: {:.4f}\".format(testSentences[i], givenSentences[j], cosine_scores[i][j]))"
      ],
      "metadata": {
        "colab": {
          "base_uri": "https://localhost:8080/"
        },
        "id": "MXBCZ7c1hJWY",
        "outputId": "8a2cf79c-01b0-4816-dde7-acda4e12bfba"
      },
      "execution_count": 38,
      "outputs": [
        {
          "output_type": "stream",
          "name": "stdout",
          "text": [
            "What is the date of his death? \t\t When was Albert Einstein born? \t\t Score: 0.4319\n",
            "What is the date of his death? \t\t Where was he born? \t\t Score: 0.5214\n",
            "What is the date of his death? \t\t When did he die? \t\t Score: 0.8528\n",
            "What is the date of his death? \t\t Who were his parents? \t\t Score: 0.4387\n",
            "What is the date of his death? \t\t Did he have any sisters and brothers? \t\t Score: 0.3483\n",
            "What is the date of his death? \t\t Did he marry and have children? \t\t Score: 0.3962\n",
            "What is the date of his death? \t\t Where did he receive his education? \t\t Score: 0.3921\n",
            "What is the date of his death? \t\t When was Albert Einstein awarded the Nobel Prize in Physics? \t\t Score: 0.2773\n",
            "What is the date of his death? \t\t Did Albert Einstein attend the Nobel Prize Award Ceremony? \t\t Score: 0.3315\n",
            "What is the date of his death? \t\t For what did he receive the Nobel Prize? \t\t Score: 0.3400\n",
            "Did Einstein have siblings? \t\t When was Albert Einstein born? \t\t Score: 0.7280\n",
            "Did Einstein have siblings? \t\t Where was he born? \t\t Score: 0.4311\n",
            "Did Einstein have siblings? \t\t When did he die? \t\t Score: 0.3802\n",
            "Did Einstein have siblings? \t\t Who were his parents? \t\t Score: 0.5500\n",
            "Did Einstein have siblings? \t\t Did he have any sisters and brothers? \t\t Score: 0.6672\n",
            "Did Einstein have siblings? \t\t Did he marry and have children? \t\t Score: 0.5571\n",
            "Did Einstein have siblings? \t\t Where did he receive his education? \t\t Score: 0.3622\n",
            "Did Einstein have siblings? \t\t When was Albert Einstein awarded the Nobel Prize in Physics? \t\t Score: 0.5471\n",
            "Did Einstein have siblings? \t\t Did Albert Einstein attend the Nobel Prize Award Ceremony? \t\t Score: 0.5617\n",
            "Did Einstein have siblings? \t\t For what did he receive the Nobel Prize? \t\t Score: 0.2812\n",
            "Who was his wife? \t\t When was Albert Einstein born? \t\t Score: 0.3090\n",
            "Who was his wife? \t\t Where was he born? \t\t Score: 0.4288\n",
            "Who was his wife? \t\t When did he die? \t\t Score: 0.5042\n",
            "Who was his wife? \t\t Who were his parents? \t\t Score: 0.6003\n",
            "Who was his wife? \t\t Did he have any sisters and brothers? \t\t Score: 0.5069\n",
            "Who was his wife? \t\t Did he marry and have children? \t\t Score: 0.6313\n",
            "Who was his wife? \t\t Where did he receive his education? \t\t Score: 0.4024\n",
            "Who was his wife? \t\t When was Albert Einstein awarded the Nobel Prize in Physics? \t\t Score: 0.2351\n",
            "Who was his wife? \t\t Did Albert Einstein attend the Nobel Prize Award Ceremony? \t\t Score: 0.2523\n",
            "Who was his wife? \t\t For what did he receive the Nobel Prize? \t\t Score: 0.2846\n",
            "What was Einstein's father's name? \t\t When was Albert Einstein born? \t\t Score: 0.7501\n",
            "What was Einstein's father's name? \t\t Where was he born? \t\t Score: 0.4232\n",
            "What was Einstein's father's name? \t\t When did he die? \t\t Score: 0.3983\n",
            "What was Einstein's father's name? \t\t Who were his parents? \t\t Score: 0.5537\n",
            "What was Einstein's father's name? \t\t Did he have any sisters and brothers? \t\t Score: 0.3960\n",
            "What was Einstein's father's name? \t\t Did he marry and have children? \t\t Score: 0.3907\n",
            "What was Einstein's father's name? \t\t Where did he receive his education? \t\t Score: 0.3576\n",
            "What was Einstein's father's name? \t\t When was Albert Einstein awarded the Nobel Prize in Physics? \t\t Score: 0.6056\n",
            "What was Einstein's father's name? \t\t Did Albert Einstein attend the Nobel Prize Award Ceremony? \t\t Score: 0.5699\n",
            "What was Einstein's father's name? \t\t For what did he receive the Nobel Prize? \t\t Score: 0.3296\n",
            "At what institutions did he study? \t\t When was Albert Einstein born? \t\t Score: 0.3870\n",
            "At what institutions did he study? \t\t Where was he born? \t\t Score: 0.4283\n",
            "At what institutions did he study? \t\t When did he die? \t\t Score: 0.3555\n",
            "At what institutions did he study? \t\t Who were his parents? \t\t Score: 0.4312\n",
            "At what institutions did he study? \t\t Did he have any sisters and brothers? \t\t Score: 0.3370\n",
            "At what institutions did he study? \t\t Did he marry and have children? \t\t Score: 0.3200\n",
            "At what institutions did he study? \t\t Where did he receive his education? \t\t Score: 0.7662\n",
            "At what institutions did he study? \t\t When was Albert Einstein awarded the Nobel Prize in Physics? \t\t Score: 0.3975\n",
            "At what institutions did he study? \t\t Did Albert Einstein attend the Nobel Prize Award Ceremony? \t\t Score: 0.4241\n",
            "At what institutions did he study? \t\t For what did he receive the Nobel Prize? \t\t Score: 0.4889\n"
          ]
        }
      ]
    },
    {
      "cell_type": "code",
      "source": [
        "for i in range(len(testSentences)): \n",
        "  list_cosine = list( cosine_scores[i].numpy())\n",
        "  max_value = np.max(list_cosine)\n",
        "  ansIndex = list_cosine.index(max_value)\n",
        "  print(\"{} \\t\\t {} \\t\\t {} \\t\\t Score: {:.4f}\".format(testSentences[i], givenSentences[ansIndex], givenAnsSentences[ansIndex],  cosine_scores[i][ansIndex]))"
      ],
      "metadata": {
        "colab": {
          "base_uri": "https://localhost:8080/"
        },
        "id": "DmCT-t8pGdkb",
        "outputId": "18a6909e-63d0-49a9-b7ef-aa56a83fdb3e"
      },
      "execution_count": 39,
      "outputs": [
        {
          "output_type": "stream",
          "name": "stdout",
          "text": [
            "What is the date of his death? \t\t When did he die? \t\t He died 18 April 1955 in Princeton, New Jersey, USA. \t\t Score: 0.8528\n",
            "Did Einstein have siblings? \t\t When was Albert Einstein born? \t\t Albert Einstein was born on 14 March 1879. \t\t Score: 0.7280\n",
            "Who was his wife? \t\t Did he marry and have children? \t\t He was married to Mileva Marić between 1903 and 1919. They had three children, Lieserl (born 1902), Hans Albert (born 1904) and Eduard (born 1910). He married Elsa Löwenthal in 1919 and they lived together until her death in 1936. \t\t Score: 0.6313\n",
            "What was Einstein's father's name? \t\t When was Albert Einstein born? \t\t Albert Einstein was born on 14 March 1879. \t\t Score: 0.7501\n",
            "At what institutions did he study? \t\t Where did he receive his education? \t\t He received his main education at the following schools: Catholic elementary school in Munich, Germany (1885-1888)Luitpold Gymnasium in Munich, Germany (1888-1894) Cantonal school in Aarau, Switzerland (1895-1896) Swiss Federal Institute of Technology in Zurich, Switzerland (1896-1900) Ph.D. from Zurich University, Switzerland (1905) \t\t Score: 0.7662\n"
          ]
        }
      ]
    },
    {
      "cell_type": "code",
      "source": [],
      "metadata": {
        "id": "TCqDeeNMHZeX"
      },
      "execution_count": null,
      "outputs": []
    }
  ]
}